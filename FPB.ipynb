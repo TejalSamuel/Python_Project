{
  "cells": [
    {
      "cell_type": "markdown",
      "metadata": {
        "id": "view-in-github",
        "colab_type": "text"
      },
      "source": [
        "<a href=\"https://colab.research.google.com/github/TejalSamuel/Python_Project/blob/main/FPB.ipynb\" target=\"_parent\"><img src=\"https://colab.research.google.com/assets/colab-badge.svg\" alt=\"Open In Colab\"/></a>"
      ]
    },
    {
      "cell_type": "code",
      "execution_count": null,
      "metadata": {
        "id": "ab9379a5"
      },
      "outputs": [],
      "source": [
        "\n",
        "def fermi():\n",
        "  for i in range(len(guess_number)):\n",
        "    for j in range(len(original_number)):\n",
        "      if (guess_number[i]==original_number[j] and i==j):\n",
        "        output.append('Fermi')\n",
        "  \n",
        "def pico():\n",
        "  for i in range(len(guess_number)):\n",
        "    for j in range(len(original_number)):\n",
        "      if (guess_number[i]==original_number[j] and i!=j):\n",
        "        output.append('Pico')"
      ]
    },
    {
      "cell_type": "code",
      "source": [
        "from IPython.display import clear_output\n",
        "original_number='204'\n",
        "\n",
        "def fermi():\n",
        "  for i in range(len(guess_number)):\n",
        "    for j in range(len(original_number)):\n",
        "      if (guess_number[i]==original_number[j] and i==j):\n",
        "        output.append('Fermi')\n",
        "  \n",
        "def pico():\n",
        "  for i in range(len(guess_number)):\n",
        "    for j in range(len(original_number)):\n",
        "      if (guess_number[i]==original_number[j] and i!=j):\n",
        "        output.append('Pico')\n",
        "  \n",
        "    \n",
        "\n",
        "while True:\n",
        "  guess_number=input(('Enter a three digit number'))\n",
        "  output=[]\n",
        "  if len(original_number)!=len(guess_number):\n",
        "    print('Invalid input')\n",
        "    continue\n",
        "  if len(set(guess_number))==1:\n",
        "      print('duplicate,duplicate. Invalid input')\n",
        "      continue\n",
        "  elif len(set(guess_number))==2:\n",
        "      print('duplicate. Invalid input')\n",
        "      continue\n",
        "  else: \n",
        "      print('Valid')\n",
        "      clear_output()\n",
        "      r=fermi()\n",
        "      s=pico()\n",
        "      print('  '.join(sorted(output)))\n",
        "  if len(output)==0:\n",
        "    print('Bagel')\n",
        "  if guess_number==original_number:\n",
        "    print('You won')\n",
        "    break"
      ],
      "metadata": {
        "colab": {
          "base_uri": "https://localhost:8080/"
        },
        "id": "kgaWQxQwVMfh",
        "outputId": "44b42f45-de63-4ecb-d41f-9613354f4f17"
      },
      "execution_count": null,
      "outputs": [
        {
          "output_type": "stream",
          "name": "stdout",
          "text": [
            "Fermi  Fermi  Fermi\n",
            "You won\n"
          ]
        }
      ]
    },
    {
      "cell_type": "code",
      "source": [
        "originalNumber='789'\n",
        "\n",
        "while True:\n",
        "  Output = []\n",
        "  outputString=''\n",
        "\n",
        "  guessNumber=input(('Enter three digit number :'))\n",
        "  if len(originalNumber)==len(guessNumber):\n",
        "    if len(guessNumber)!=len(set(guessNumber)):\n",
        "      print('Duplicate Numbers')\n",
        "      continue\n",
        "\n",
        "    if guessNumber==originalNumber:\n",
        "      for i in range(len(guessNumber)):\n",
        "        print('Fermi',end='')\n",
        "      print('You win')\n",
        "      break\n",
        "\n",
        "    for i in range(len(guessNumber)):\n",
        "      if guessNumber[i]==originalNumber[i]:\n",
        "        Output.append('Fermi')\n",
        "      elif guessNumber[i] in originalNumber:\n",
        "        Output.append('Pico')\n",
        "\n",
        "  outputString=\"  \".join(sorted(Output))\n",
        "  print(outputString)\n",
        "\n",
        "  if len(Output)==0:\n",
        "    print('Bagel')\n",
        "  "
      ],
      "metadata": {
        "id": "ud_2LSzFC1sm"
      },
      "execution_count": null,
      "outputs": []
    },
    {
      "cell_type": "code",
      "source": [
        "from IPython.display import clear_output\n",
        "original_number='204'\n",
        "\n",
        "\n",
        "while True:\n",
        "  guess_number=input(('Enter a three digit number'))\n",
        "  output=[]\n",
        "  if len(original_number)!=len(guess_number):\n",
        "    print('Invalid input')\n",
        "    continue\n",
        "  if len(set(guess_number))==1:\n",
        "      print('duplicate,duplicate. Invalid input')\n",
        "      continue\n",
        "  elif len(set(guess_number))==2:\n",
        "      print('duplicate. Invalid input')\n",
        "      continue\n",
        "  else: \n",
        "      print('Valid')\n",
        "      clear_output()\n",
        "      o = list(original_number)\n",
        "      g = list(guess_number)\n",
        "      for i, j in zip(o,g):\n",
        "        if i==j:\n",
        "          output.append('Fermi')\n",
        "        elif j in o and i!=j:\n",
        "          output.append('Pico')\n",
        "          print('  '.join(sorted(output)))\n",
        "  if len(output)==0:\n",
        "    print('Bagel')\n",
        "  if guess_number==original_number:\n",
        "    print('You won')\n",
        "    break"
      ],
      "metadata": {
        "id": "3htGEcgQ4sZ-"
      },
      "execution_count": null,
      "outputs": []
    },
    {
      "cell_type": "code",
      "source": [
        "#Method 2\n",
        "\n",
        "from IPython.display import clear_output\n",
        "import random\n",
        "\n",
        "n = int(input())\n",
        "result_number = []\n",
        "while len(result_number)<n:\n",
        "  result_number.append(random.randint(0,9))\n",
        "  result_number = list(set(result_number))\n",
        "print(result_number)\n",
        "\n",
        "\n",
        "def check_repitition(number):\n",
        "  if len(UserNumber)==len(set(UserNumber)) :\n",
        "      return False\n",
        "  else:\n",
        "      return True\n",
        "      for i in range(1,len(UserNumber)):\n",
        "        if len(set(UserNumber))==i:\n",
        "            print('duplicate '*(i))\n",
        "  \n",
        "\n",
        "while True:\n",
        "#UserNumber = input()\n",
        "  \n",
        "    Output =[]\n",
        "    UserNumber = input()\n",
        "    if check_repitition(UserNumber) == False:\n",
        "      print('Valid')\n",
        "      #clear_output()\n",
        "      UserNumber = list(UserNumber)\n",
        "      U = list(map(int,UserNumber))\n",
        "\n",
        "      for i, j in zip(result_number,U):\n",
        "        if i==j:\n",
        "          Output.append('Fermi')\n",
        "        elif j in result_number and i!=j:\n",
        "          Output.append('Pico')\n",
        "      #print(Output)\n",
        "      print('  '.join(sorted(Output)))\n",
        "      \n",
        "    else:\n",
        "      print('Invalid')\n",
        "      #clear_output()\n",
        "      continue\n",
        "    if len(Output)==0:\n",
        "      print('Bagel')\n",
        "    if result_number==U:\n",
        "      print('You won')\n",
        "      break"
      ],
      "metadata": {
        "id": "IwvbxbO25uK9",
        "colab": {
          "base_uri": "https://localhost:8080/"
        },
        "outputId": "0c006991-c593-4c1a-ad05-da01f92ba37f"
      },
      "execution_count": null,
      "outputs": [
        {
          "output_type": "stream",
          "name": "stdout",
          "text": [
            "3\n",
            "[1, 6, 7]\n",
            "123\n",
            "Valid\n",
            "Fermi\n",
            "145\n",
            "Valid\n",
            "Fermi\n",
            "157\n",
            "Valid\n",
            "Fermi  Fermi\n",
            "107\n",
            "Valid\n",
            "Fermi  Fermi\n",
            "167\n",
            "Valid\n",
            "Fermi  Fermi  Fermi\n",
            "You won\n"
          ]
        }
      ]
    },
    {
      "cell_type": "code",
      "source": [
        ""
      ],
      "metadata": {
        "id": "bJxa2zbj_q_V"
      },
      "execution_count": null,
      "outputs": []
    }
  ],
  "metadata": {
    "colab": {
      "collapsed_sections": [],
      "name": "FPB.ipynb",
      "provenance": [],
      "authorship_tag": "ABX9TyOcnCjEjA/870XZBRWR27HD",
      "include_colab_link": true
    },
    "kernelspec": {
      "display_name": "Python 3",
      "name": "python3"
    },
    "language_info": {
      "name": "python"
    }
  },
  "nbformat": 4,
  "nbformat_minor": 0
}