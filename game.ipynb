{
  "cells": [
    {
      "cell_type": "markdown",
      "metadata": {
        "id": "view-in-github",
        "colab_type": "text"
      },
      "source": [
        "<a href=\"https://colab.research.google.com/github/TejalSamuel/Python_Project/blob/main/game.ipynb\" target=\"_parent\"><img src=\"https://colab.research.google.com/assets/colab-badge.svg\" alt=\"Open In Colab\"/></a>"
      ]
    },
    {
      "cell_type": "markdown",
      "source": [
        "**Code without Emoticons**"
      ],
      "metadata": {
        "id": "Yi6lIQzjhC17"
      }
    },
    {
      "cell_type": "code",
      "execution_count": null,
      "metadata": {
        "id": "lG-QrYkc2w7C"
      },
      "outputs": [],
      "source": [
        "print('M = 0 C = 0 |------B| M = 3 C = 3')\n",
        "\n",
        "boat_side = 'right'\n",
        "missionaries_on_right = 3\n",
        "cannibals_on_right = 3\n",
        "missionaries_on_left = 0\n",
        "cannibals_on_left = 0\n",
        "\n",
        "while True:\n",
        "  missionaries=int(input('Enter number of missionaries on the boat '))                          #invalid move 1\n",
        "  cannibals=int(input('Enter number of cannibals on the boat '))\n",
        "  x=missionaries+cannibals\n",
        "  \n",
        "  \n",
        "  if boat_side=='right':\n",
        "    if x==1 or x==2:\n",
        "      print('Valid move')\n",
        "      if (missionaries > missionaries_on_right ) or (cannibals > cannibals_on_right ):\n",
        "        print('Invalid move 2')\n",
        "        continue\n",
        "      else:\n",
        "        print('Valid move')\n",
        "        missionaries_on_right=missionaries_on_right-missionaries\n",
        "        missionaries_on_left=missionaries_on_left+missionaries\n",
        "        cannibals_on_right=cannibals_on_right-cannibals\n",
        "        cannibals_on_left=cannibals_on_left+cannibals\n",
        "        print('M = ' + str(missionaries_on_left) + ' C = ' + str(cannibals_on_left) + '|B------| M =' +str(missionaries_on_right) + ' C = ' + str(cannibals_on_right))\n",
        "        boat_side='left'\n",
        "   \n",
        "    else:\n",
        "      print('Invalid move 1')\n",
        "      continue\n",
        "  \n",
        "  \n",
        "  elif boat_side=='left':\n",
        "    print(boat_side)\n",
        "      \n",
        "  \n",
        "    if x==1 or x==2:                     \n",
        "      print('Valid move')\n",
        "      if (missionaries>missionaries_on_left) or (cannibals>cannibals_on_left ):\n",
        "        print('Invalid move 2')\n",
        "        continue\n",
        "      else:\n",
        "        print('Valid move')\n",
        "        missionaries_on_right=missionaries_on_right+missionaries\n",
        "        missionaries_on_left=missionaries_on_left-missionaries\n",
        "        cannibals_on_right=cannibals_on_right+cannibals\n",
        "        cannibals_on_left=cannibals_on_left-cannibals\n",
        "        print('M = ' + str(missionaries_on_left) + ' C = ' + str(cannibals_on_left) + ' |------B| M =' + str(missionaries_on_right) + ' C = ' + str(cannibals_on_right))\n",
        "        \n",
        "        boat_side='right'\n",
        "\n",
        "    else:\n",
        "      print('Invalid move 1')\n",
        "      continue\n",
        "        \n",
        "  \n",
        "\n",
        "  if 0<missionaries_on_right<cannibals_on_right:\n",
        "    print('YOU LOSE')\n",
        "    print('GAME OVER')\n",
        "    break\n",
        "  elif 0<missionaries_on_left<cannibals_on_left:\n",
        "    print('YOU LOSE')\n",
        "    print('GAME OVER')\n",
        "    break\n",
        "    \n",
        "  elif missionaries_on_left==3 and cannibals_on_left==3:\n",
        "    print('YOU WIN')\n",
        "    print('GAME OVER')\n",
        "    break"
      ]
    },
    {
      "cell_type": "markdown",
      "source": [
        "**Code with Emoticons**\n",
        "\n"
      ],
      "metadata": {
        "id": "3HpdfCJ9g3c-"
      }
    },
    {
      "cell_type": "code",
      "execution_count": null,
      "metadata": {
        "colab": {
          "base_uri": "https://localhost:8080/",
          "height": 554
        },
        "id": "FPf5JyYDF8sf",
        "outputId": "1d9799ae-2c05-4110-9095-441d86c7ea2f"
      },
      "outputs": [
        {
          "name": "stdout",
          "output_type": "stream",
          "text": [
            "💂💂👹👹🚢🌊🌊🌊🌊💂👹\n"
          ]
        },
        {
          "ename": "KeyboardInterrupt",
          "evalue": "ignored",
          "output_type": "error",
          "traceback": [
            "\u001b[0;31m---------------------------------------------------------------------------\u001b[0m",
            "\u001b[0;31mKeyboardInterrupt\u001b[0m                         Traceback (most recent call last)",
            "\u001b[0;32m/usr/local/lib/python3.7/dist-packages/ipykernel/kernelbase.py\u001b[0m in \u001b[0;36m_input_request\u001b[0;34m(self, prompt, ident, parent, password)\u001b[0m\n\u001b[1;32m    728\u001b[0m             \u001b[0;32mtry\u001b[0m\u001b[0;34m:\u001b[0m\u001b[0;34m\u001b[0m\u001b[0;34m\u001b[0m\u001b[0m\n\u001b[0;32m--> 729\u001b[0;31m                 \u001b[0mident\u001b[0m\u001b[0;34m,\u001b[0m \u001b[0mreply\u001b[0m \u001b[0;34m=\u001b[0m \u001b[0mself\u001b[0m\u001b[0;34m.\u001b[0m\u001b[0msession\u001b[0m\u001b[0;34m.\u001b[0m\u001b[0mrecv\u001b[0m\u001b[0;34m(\u001b[0m\u001b[0mself\u001b[0m\u001b[0;34m.\u001b[0m\u001b[0mstdin_socket\u001b[0m\u001b[0;34m,\u001b[0m \u001b[0;36m0\u001b[0m\u001b[0;34m)\u001b[0m\u001b[0;34m\u001b[0m\u001b[0;34m\u001b[0m\u001b[0m\n\u001b[0m\u001b[1;32m    730\u001b[0m             \u001b[0;32mexcept\u001b[0m \u001b[0mException\u001b[0m\u001b[0;34m:\u001b[0m\u001b[0;34m\u001b[0m\u001b[0;34m\u001b[0m\u001b[0m\n",
            "\u001b[0;32m/usr/local/lib/python3.7/dist-packages/jupyter_client/session.py\u001b[0m in \u001b[0;36mrecv\u001b[0;34m(self, socket, mode, content, copy)\u001b[0m\n\u001b[1;32m    802\u001b[0m         \u001b[0;32mtry\u001b[0m\u001b[0;34m:\u001b[0m\u001b[0;34m\u001b[0m\u001b[0;34m\u001b[0m\u001b[0m\n\u001b[0;32m--> 803\u001b[0;31m             \u001b[0mmsg_list\u001b[0m \u001b[0;34m=\u001b[0m \u001b[0msocket\u001b[0m\u001b[0;34m.\u001b[0m\u001b[0mrecv_multipart\u001b[0m\u001b[0;34m(\u001b[0m\u001b[0mmode\u001b[0m\u001b[0;34m,\u001b[0m \u001b[0mcopy\u001b[0m\u001b[0;34m=\u001b[0m\u001b[0mcopy\u001b[0m\u001b[0;34m)\u001b[0m\u001b[0;34m\u001b[0m\u001b[0;34m\u001b[0m\u001b[0m\n\u001b[0m\u001b[1;32m    804\u001b[0m         \u001b[0;32mexcept\u001b[0m \u001b[0mzmq\u001b[0m\u001b[0;34m.\u001b[0m\u001b[0mZMQError\u001b[0m \u001b[0;32mas\u001b[0m \u001b[0me\u001b[0m\u001b[0;34m:\u001b[0m\u001b[0;34m\u001b[0m\u001b[0;34m\u001b[0m\u001b[0m\n",
            "\u001b[0;32m/usr/local/lib/python3.7/dist-packages/zmq/sugar/socket.py\u001b[0m in \u001b[0;36mrecv_multipart\u001b[0;34m(self, flags, copy, track)\u001b[0m\n\u001b[1;32m    624\u001b[0m         \"\"\"\n\u001b[0;32m--> 625\u001b[0;31m         \u001b[0mparts\u001b[0m \u001b[0;34m=\u001b[0m \u001b[0;34m[\u001b[0m\u001b[0mself\u001b[0m\u001b[0;34m.\u001b[0m\u001b[0mrecv\u001b[0m\u001b[0;34m(\u001b[0m\u001b[0mflags\u001b[0m\u001b[0;34m,\u001b[0m \u001b[0mcopy\u001b[0m\u001b[0;34m=\u001b[0m\u001b[0mcopy\u001b[0m\u001b[0;34m,\u001b[0m \u001b[0mtrack\u001b[0m\u001b[0;34m=\u001b[0m\u001b[0mtrack\u001b[0m\u001b[0;34m)\u001b[0m\u001b[0;34m]\u001b[0m\u001b[0;34m\u001b[0m\u001b[0;34m\u001b[0m\u001b[0m\n\u001b[0m\u001b[1;32m    626\u001b[0m         \u001b[0;31m# have first part already, only loop while more to receive\u001b[0m\u001b[0;34m\u001b[0m\u001b[0;34m\u001b[0m\u001b[0;34m\u001b[0m\u001b[0m\n",
            "\u001b[0;32mzmq/backend/cython/socket.pyx\u001b[0m in \u001b[0;36mzmq.backend.cython.socket.Socket.recv\u001b[0;34m()\u001b[0m\n",
            "\u001b[0;32mzmq/backend/cython/socket.pyx\u001b[0m in \u001b[0;36mzmq.backend.cython.socket.Socket.recv\u001b[0;34m()\u001b[0m\n",
            "\u001b[0;32mzmq/backend/cython/socket.pyx\u001b[0m in \u001b[0;36mzmq.backend.cython.socket._recv_copy\u001b[0;34m()\u001b[0m\n",
            "\u001b[0;32m/usr/local/lib/python3.7/dist-packages/zmq/backend/cython/checkrc.pxd\u001b[0m in \u001b[0;36mzmq.backend.cython.checkrc._check_rc\u001b[0;34m()\u001b[0m\n",
            "\u001b[0;31mKeyboardInterrupt\u001b[0m: ",
            "\nDuring handling of the above exception, another exception occurred:\n",
            "\u001b[0;31mKeyboardInterrupt\u001b[0m                         Traceback (most recent call last)",
            "\u001b[0;32m<ipython-input-29-70c59bbd1ca1>\u001b[0m in \u001b[0;36m<module>\u001b[0;34m()\u001b[0m\n\u001b[1;32m      7\u001b[0m \u001b[0mcl\u001b[0m\u001b[0;34m=\u001b[0m\u001b[0;36m0\u001b[0m\u001b[0;34m\u001b[0m\u001b[0;34m\u001b[0m\u001b[0m\n\u001b[1;32m      8\u001b[0m \u001b[0;32mwhile\u001b[0m \u001b[0;32mTrue\u001b[0m\u001b[0;34m:\u001b[0m\u001b[0;34m\u001b[0m\u001b[0;34m\u001b[0m\u001b[0m\n\u001b[0;32m----> 9\u001b[0;31m   \u001b[0mmis\u001b[0m\u001b[0;34m=\u001b[0m\u001b[0mint\u001b[0m\u001b[0;34m(\u001b[0m\u001b[0minput\u001b[0m\u001b[0;34m(\u001b[0m\u001b[0;34m'Enter number of missionaries on the boat '\u001b[0m\u001b[0;34m)\u001b[0m\u001b[0;34m)\u001b[0m                          \u001b[0;31m#invalid move 1\u001b[0m\u001b[0;34m\u001b[0m\u001b[0;34m\u001b[0m\u001b[0m\n\u001b[0m\u001b[1;32m     10\u001b[0m   \u001b[0mcan\u001b[0m\u001b[0;34m=\u001b[0m\u001b[0mint\u001b[0m\u001b[0;34m(\u001b[0m\u001b[0minput\u001b[0m\u001b[0;34m(\u001b[0m\u001b[0;34m'Enter number of cannibals on the boat '\u001b[0m\u001b[0;34m)\u001b[0m\u001b[0;34m)\u001b[0m\u001b[0;34m\u001b[0m\u001b[0;34m\u001b[0m\u001b[0m\n\u001b[1;32m     11\u001b[0m   \u001b[0mx\u001b[0m\u001b[0;34m=\u001b[0m\u001b[0mmis\u001b[0m\u001b[0;34m+\u001b[0m\u001b[0mcan\u001b[0m\u001b[0;34m\u001b[0m\u001b[0;34m\u001b[0m\u001b[0m\n",
            "\u001b[0;32m/usr/local/lib/python3.7/dist-packages/ipykernel/kernelbase.py\u001b[0m in \u001b[0;36mraw_input\u001b[0;34m(self, prompt)\u001b[0m\n\u001b[1;32m    702\u001b[0m             \u001b[0mself\u001b[0m\u001b[0;34m.\u001b[0m\u001b[0m_parent_ident\u001b[0m\u001b[0;34m,\u001b[0m\u001b[0;34m\u001b[0m\u001b[0;34m\u001b[0m\u001b[0m\n\u001b[1;32m    703\u001b[0m             \u001b[0mself\u001b[0m\u001b[0;34m.\u001b[0m\u001b[0m_parent_header\u001b[0m\u001b[0;34m,\u001b[0m\u001b[0;34m\u001b[0m\u001b[0;34m\u001b[0m\u001b[0m\n\u001b[0;32m--> 704\u001b[0;31m             \u001b[0mpassword\u001b[0m\u001b[0;34m=\u001b[0m\u001b[0;32mFalse\u001b[0m\u001b[0;34m,\u001b[0m\u001b[0;34m\u001b[0m\u001b[0;34m\u001b[0m\u001b[0m\n\u001b[0m\u001b[1;32m    705\u001b[0m         )\n\u001b[1;32m    706\u001b[0m \u001b[0;34m\u001b[0m\u001b[0m\n",
            "\u001b[0;32m/usr/local/lib/python3.7/dist-packages/ipykernel/kernelbase.py\u001b[0m in \u001b[0;36m_input_request\u001b[0;34m(self, prompt, ident, parent, password)\u001b[0m\n\u001b[1;32m    732\u001b[0m             \u001b[0;32mexcept\u001b[0m \u001b[0mKeyboardInterrupt\u001b[0m\u001b[0;34m:\u001b[0m\u001b[0;34m\u001b[0m\u001b[0;34m\u001b[0m\u001b[0m\n\u001b[1;32m    733\u001b[0m                 \u001b[0;31m# re-raise KeyboardInterrupt, to truncate traceback\u001b[0m\u001b[0;34m\u001b[0m\u001b[0;34m\u001b[0m\u001b[0;34m\u001b[0m\u001b[0m\n\u001b[0;32m--> 734\u001b[0;31m                 \u001b[0;32mraise\u001b[0m \u001b[0mKeyboardInterrupt\u001b[0m\u001b[0;34m\u001b[0m\u001b[0;34m\u001b[0m\u001b[0m\n\u001b[0m\u001b[1;32m    735\u001b[0m             \u001b[0;32melse\u001b[0m\u001b[0;34m:\u001b[0m\u001b[0;34m\u001b[0m\u001b[0;34m\u001b[0m\u001b[0m\n\u001b[1;32m    736\u001b[0m                 \u001b[0;32mbreak\u001b[0m\u001b[0;34m\u001b[0m\u001b[0;34m\u001b[0m\u001b[0m\n",
            "\u001b[0;31mKeyboardInterrupt\u001b[0m: "
          ]
        }
      ],
      "source": [
        "from IPython.display import clear_output\n",
        "print(4*'\\U0001f30a'+ '\\U0001f6A2' + 3*'\\U0001f482' + 3*'\\U0001f479')\n",
        "boat_side='Right'\n",
        "mr=3\n",
        "cr=3\n",
        "ml=0\n",
        "cl=0\n",
        "while True:\n",
        "  mis=int(input('Enter number of missionaries on the boat '))                          #invalid move 1\n",
        "  can=int(input('Enter number of cannibals on the boat '))\n",
        "  x=mis+can\n",
        "  if boat_side=='Right':\n",
        "    if x==1 or x==2:\n",
        "      print('Valid move')\n",
        "      if (mis>mr ) or (can>cr ):\n",
        "        print('Invalid move 2')\n",
        "        continue\n",
        "      else:\n",
        "        print('Valid move')\n",
        "        mr=mr-mis\n",
        "        ml=ml+mis\n",
        "        cr=cr-can\n",
        "        cl=cl+can\n",
        "        clear_output()\n",
        "        print( ml*'\\U0001f482'  + cl*'\\U0001f479' +'\\U0001f6A2' +4*'\\U0001f30a'+  mr*'\\U0001f482' + cr*'\\U0001f479')\n",
        "        \n",
        "\n",
        "        boat_side='Left'\n",
        "        \n",
        "    else:\n",
        "      print('Invalid move 1')\n",
        "      continue\n",
        "  \n",
        "  \n",
        "  elif boat_side=='Left':\n",
        "    print(boat_side)\n",
        "      \n",
        "  \n",
        "    if x==1 or x==2:                     \n",
        "      print('Valid move')\n",
        "      if (mis>ml ) or (can>cl ):\n",
        "        print('Invalid move 2')\n",
        "        continue\n",
        "      else:\n",
        "        print('Valid move')\n",
        "        mr=mr+mis\n",
        "        ml=ml-mis\n",
        "        cr=cr+can\n",
        "        cl=cl-can\n",
        "        clear_output()\n",
        "        print( ml*'\\U0001f482' +  cl*'\\U0001f479' +4*'\\U0001f30a'+ '\\U0001f6A2'+ mr*'\\U0001f482' +  cr*'\\U0001f479')\n",
        "       \n",
        "        \n",
        "        boat_side='Right'\n",
        "        \n",
        "    else:\n",
        "      print('Invalid move 1')\n",
        "      continue\n",
        "        \n",
        "  \n",
        "\n",
        "  if 0<mr<cr:\n",
        "    print('YOU LOSE')\n",
        "    print('GAME OVER')\n",
        "    break\n",
        "  elif 0<ml<cl:\n",
        "    print('YOU LOSE')\n",
        "    print('GAME OVER')\n",
        "    break\n",
        "    \n",
        "  elif ml==3 and cl==3:\n",
        "    print('YOU WIN')\n",
        "    print('GAME OVER')\n",
        "    break\n"
      ]
    },
    {
      "cell_type": "code",
      "execution_count": null,
      "metadata": {
        "colab": {
          "background_save": true,
          "base_uri": "https://localhost:8080/"
        },
        "id": "uSe7WaYZTUnb",
        "outputId": "c3cb9840-d58c-4789-e2e9-836bca9ac3b9"
      },
      "outputs": [
        {
          "name": "stdout",
          "output_type": "stream",
          "text": [
            "💂💂👹👹🚢🌊🌊🌊🌊💂👹\n"
          ]
        }
      ],
      "source": [
        "from IPython.display import clear_output\n",
        "print(4*'\\U0001f30a'+ '\\U0001f6A2' + 3*'\\U0001f482' + 3*'\\U0001f479')\n",
        "boat_side = 'right'\n",
        "missionaries_on_right = 3\n",
        "cannibals_on_right = 3\n",
        "missionaries_on_left = 0\n",
        "cannibals_on_left = 0\n",
        "\n",
        "while True:\n",
        "  missionaries=int(input('Enter number of missionaries on the boat: '))                          #invalid move 1\n",
        "  cannibals=int(input('Enter number of cannibals on the boat: '))\n",
        "  x=missionaries+cannibals\n",
        "  \n",
        "  \n",
        "  if boat_side=='right':\n",
        "    if x==1 or x==2:\n",
        "      print('valid move')\n",
        "      if (missionaries > missionaries_on_right ) or (cannibals > cannibals_on_right ):\n",
        "        print('invalid move 2')\n",
        "        continue\n",
        "      else:\n",
        "        print('valid move')\n",
        "        missionaries_on_right = missionaries_on_right - missionaries\n",
        "        missionaries_on_left = missionaries_on_left + missionaries\n",
        "        cannibals_on_right = cannibals_on_right - cannibals\n",
        "        cannibals_on_left = cannibals_on_left + cannibals\n",
        "        clear_output()\n",
        "        print( missionaries_on_left*'\\U0001f482'  + cannibals_on_left*'\\U0001f479' +'\\U0001f6A2' +4*'\\U0001f30a'+  missionaries_on_right*'\\U0001f482' + cannibals_on_right*'\\U0001f479')\n",
        "        boat_side='left'\n",
        "    else:\n",
        "      print('invalid move 1')\n",
        "      continue\n",
        "  \n",
        "  \n",
        "  elif boat_side=='left':\n",
        "    print(boat_side)\n",
        "    if x==1 or x==2:\n",
        "      print('valid move')\n",
        "      if (missionaries > missionaries_on_left) or (cannibals > cannibals_on_left ):\n",
        "        print('invalid move 2')\n",
        "        continue\n",
        "      else:\n",
        "        print('valid move')\n",
        "        missionaries_on_right = missionaries_on_right + missionaries\n",
        "        missionaries_on_left = missionaries_on_left - missionaries\n",
        "        cannibals_on_right = cannibals_on_right + cannibals\n",
        "        cannibals_on_left = cannibals_on_left - cannibals\n",
        "        clear_output()\n",
        "        print( missionaries_on_left*'\\U0001f482' +  cannibals_on_left*'\\U0001f479' +4*'\\U0001f30a'+ '\\U0001f6A2'+ missionaries_on_right*'\\U0001f482' +  cannibals_on_right*'\\U0001f479')\n",
        "        boat_side='right'\n",
        "    else:\n",
        "      print('invalid move 1')\n",
        "      continue\n",
        "        \n",
        "  \n",
        "\n",
        "  if (0 < missionaries_on_right < cannibals_on_right) or  (0 < missionaries_on_left < cannibals_on_left) :\n",
        "    print('YOU LOSE')\n",
        "    print('GAME OVER')\n",
        "    break\n",
        "   \n",
        "  elif missionaries_on_left == 3 and cannibals_on_left == 3:\n",
        "    print('YOU WIN')\n",
        "    print('GAME OVER')\n",
        "    break\n"
      ]
    },
    {
      "cell_type": "code",
      "execution_count": null,
      "metadata": {
        "id": "QgtUDWwZ6bBT"
      },
      "outputs": [],
      "source": [
        ""
      ]
    }
  ],
  "metadata": {
    "colab": {
      "collapsed_sections": [],
      "name": "game.ipynb",
      "provenance": [],
      "authorship_tag": "ABX9TyO/iJg4EdZm4hQ8v/YVSRBO",
      "include_colab_link": true
    },
    "kernelspec": {
      "display_name": "Python 3",
      "name": "python3"
    },
    "language_info": {
      "name": "python"
    }
  },
  "nbformat": 4,
  "nbformat_minor": 0
}