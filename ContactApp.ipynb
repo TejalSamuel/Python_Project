{
  "nbformat": 4,
  "nbformat_minor": 0,
  "metadata": {
    "colab": {
      "name": "ContactApp.ipynb",
      "provenance": [],
      "collapsed_sections": []
    },
    "kernelspec": {
      "name": "python3",
      "display_name": "Python 3"
    },
    "language_info": {
      "name": "python"
    }
  },
  "cells": [
    {
      "cell_type": "code",
      "execution_count": null,
      "metadata": {
        "id": "A4ThgQiCmeIv"
      },
      "outputs": [],
      "source": [
        "contacts = [ {'Name': 'Leena', 'Number': '9766483182','email':'leena@gmail.com'}, {'Name': 'Kennedy', 'Number':'9890529028','email':'kennedy@gmail.com'},{'Name':'Tejal','Number':'9168840202','email':'tejal@gmail.com'}]"
      ]
    },
    {
      "cell_type": "code",
      "source": [
        "def show_contacts2(contacts):\n",
        "           #show \n",
        "  for i in range(len(contacts)):\n",
        "    print(contacts[i]['Name'])\n",
        "    \n",
        "show_contacts2(contacts)\n",
        "    "
      ],
      "metadata": {
        "colab": {
          "base_uri": "https://localhost:8080/"
        },
        "id": "F0FwJ8Fzmys5",
        "outputId": "23ec6755-a6e0-4900-9227-777a28173e15"
      },
      "execution_count": null,
      "outputs": [
        {
          "output_type": "stream",
          "name": "stdout",
          "text": [
            "Leena\n",
            "Kennedy\n",
            "Tejal\n"
          ]
        }
      ]
    },
    {
      "cell_type": "code",
      "source": [
        "def show_contacts1(contacts):\n",
        "  for i, j in enumerate(contacts):\n",
        "    print(j['Name'])\n",
        "\n",
        "show_contacts1(contacts)"
      ],
      "metadata": {
        "colab": {
          "base_uri": "https://localhost:8080/"
        },
        "id": "nAAdVOcJHNwK",
        "outputId": "aa4342f9-cfae-4852-e09c-921663f8ef4c"
      },
      "execution_count": null,
      "outputs": [
        {
          "output_type": "stream",
          "name": "stdout",
          "text": [
            " Leena\n",
            "Kennedy\n",
            "Tejal\n"
          ]
        }
      ]
    },
    {
      "cell_type": "code",
      "source": [
        "def show_contacts(contacts):\n",
        "           #show \n",
        "  for i in contacts:\n",
        "    print(i['Name'])\n",
        "    \n",
        "show_contacts(contacts)\n",
        "    "
      ],
      "metadata": {
        "colab": {
          "base_uri": "https://localhost:8080/"
        },
        "id": "MKPfFd6WzrbG",
        "outputId": "0237b9be-a7eb-4a12-db46-90688eda627b"
      },
      "execution_count": null,
      "outputs": [
        {
          "output_type": "stream",
          "name": "stdout",
          "text": [
            " Leena\n",
            "Dad\n",
            "Tejal\n"
          ]
        }
      ]
    },
    {
      "cell_type": "code",
      "source": [
        "\n",
        "def add_contacts(contacts):\n",
        "  n=input('Enter Name : ')\n",
        "  no=input('Enter Number : ')\n",
        "  e=input('Enter emailid : ')\n",
        "\n",
        "  contacts.append({'Name':n,'Number':no,'email':e})\n",
        "  #return contacts\n",
        "\n",
        "add_contacts(contacts)"
      ],
      "metadata": {
        "colab": {
          "base_uri": "https://localhost:8080/"
        },
        "id": "2xfwGq_sndae",
        "outputId": "49f41cbb-f3ca-4a85-b066-5d14c75e1070"
      },
      "execution_count": null,
      "outputs": [
        {
          "name": "stdout",
          "output_type": "stream",
          "text": [
            "Enter Name : Neena\n",
            "Enter Number : 7878978789\n",
            "Enter emailid : neena@gmail.com\n"
          ]
        }
      ]
    },
    {
      "cell_type": "code",
      "source": [
        ""
      ],
      "metadata": {
        "id": "4xQdx7tDtjA8"
      },
      "execution_count": null,
      "outputs": []
    },
    {
      "cell_type": "code",
      "source": [
        "def delete_contact(contacts, name):\n",
        "          \n",
        "  for i in contacts:\n",
        "    if i['Name']==name:\n",
        "      contacts.remove(i)\n",
        "  #print(contacts)\n",
        "delete_contact(contacts, 'Neena')"
      ],
      "metadata": {
        "id": "qXc77GM_0KOX"
      },
      "execution_count": null,
      "outputs": []
    },
    {
      "cell_type": "code",
      "source": [
        "def update_contact(contacts, name):\n",
        "  for i in contacts:\n",
        "    if i['Name']==name:\n",
        "      \n",
        "        ask = input('What do you want to update?   ')\n",
        "        if ask=='Name':\n",
        "\n",
        "            newName = input('New Name ')\n",
        "            i['Name'] =  newName\n",
        "        elif ask =='Number':\n",
        "            newNumber = input('New Number ')\n",
        "            i['Number'] = newNumber\n",
        "        elif ask =='email':\n",
        "            newEmail =  input('New Email ')\n",
        "            i['email'] = newEmail\n",
        "  #print(contacts)\n",
        "     \n",
        "update_contact(contacts,'Kennedy')"
      ],
      "metadata": {
        "colab": {
          "base_uri": "https://localhost:8080/"
        },
        "id": "zyWDVzNI3QMr",
        "outputId": "3586c549-d922-4ed0-99bb-ebc359e13744"
      },
      "execution_count": null,
      "outputs": [
        {
          "name": "stdout",
          "output_type": "stream",
          "text": [
            "What do you want to update?   Name\n",
            "New Name Dad\n"
          ]
        }
      ]
    },
    {
      "cell_type": "code",
      "source": [
        "def update(contacts,name):\n",
        "  for i, j in enumerate(contacts):\n",
        "    ask = input(' What do you want to update? ')\n",
        "    if ask == 'Name':\n",
        "      newname = input('New name')\n",
        "      j['Name'] =  newname"
      ],
      "metadata": {
        "id": "bzEzAFKGH4uI"
      },
      "execution_count": null,
      "outputs": []
    },
    {
      "cell_type": "code",
      "source": [
        "def open_contact(contacts, name):\n",
        "    for i in contacts:\n",
        "      if i['Name']==name:\n",
        "        print(i)\n",
        "        break\n",
        "    else:\n",
        "        print('No Match found')\n",
        "      \n",
        "  \n",
        "        #user = input('Press u for update or d for delete')\n",
        "open_contact(contacts,'Tejal')"
      ],
      "metadata": {
        "colab": {
          "base_uri": "https://localhost:8080/"
        },
        "id": "3bNsRvNK0h5q",
        "outputId": "73bd1047-9190-4391-a643-3448371c00c6"
      },
      "execution_count": null,
      "outputs": [
        {
          "output_type": "stream",
          "name": "stdout",
          "text": [
            "{'Name': 'Tejal', 'Number': '9168840202', 'email': 'tejal@gmail.com'}\n"
          ]
        }
      ]
    },
    {
      "cell_type": "code",
      "source": [
        "from IPython.display import clear_output\n",
        "\n",
        "while True:\n",
        "    \n",
        "    action = input(\"Press 'a' - add contact, 'o' - open contact, 'q' - quit  :   \")\n",
        "    clear_output()\n",
        "\n",
        "    if action == 'a':\n",
        "      add_contacts(contacts)\n",
        "      clear_output()\n",
        "\n",
        "    elif action == 'o':\n",
        "        name = input(\"Enter name of the contact you want to open. \")        \n",
        "        open_contact(contacts, name)\n",
        "        clear_output()\n",
        "\n",
        "        user = input('Press u for update or d for delete or stop. ')\n",
        "        if user == 'u':\n",
        "          update_contact(contacts, name)\n",
        "\n",
        "        elif user== 'd':\n",
        "          delete_contact(contacts, name)\n",
        "\n",
        "        elif user=='stop':\n",
        "          break\n",
        "    \n",
        "    elif action == 'q':\n",
        "      break\n",
        "    \n",
        "    else:\n",
        "        print('Invalid choice')"
      ],
      "metadata": {
        "id": "CNqEB5-n6L4h"
      },
      "execution_count": null,
      "outputs": []
    },
    {
      "cell_type": "code",
      "source": [
        ""
      ],
      "metadata": {
        "id": "sLuSIDdyE_rL"
      },
      "execution_count": null,
      "outputs": []
    },
    {
      "cell_type": "code",
      "source": [
        "l = []\n",
        "a = []\n",
        "for x in range(int(input())):\n",
        "        name = input()\n",
        "        score = float(input())\n",
        "        l.append([name, score])\n",
        "#print(l)\n",
        "for i, j in enumerate(l):\n",
        "  a.append(j[1])\n",
        "a = list(set(a))\n",
        "a.sort()\n",
        "print(a[1])\n",
        "\n"
      ],
      "metadata": {
        "colab": {
          "base_uri": "https://localhost:8080/"
        },
        "id": "bqi-CyNW5A9r",
        "outputId": "bfe41895-0264-49a9-8d17-24a0b2ee827d"
      },
      "execution_count": null,
      "outputs": [
        {
          "output_type": "stream",
          "name": "stdout",
          "text": [
            "3\n",
            "beta\n",
            "20\n",
            "alpha\n",
            "50\n",
            "chi\n",
            "50\n",
            "50.0\n"
          ]
        }
      ]
    },
    {
      "cell_type": "code",
      "source": [
        "a = []\n",
        "b = []\n",
        "l = [['bet', 4.0], ['cat', 5.0], ['dog', 5.0]]\n",
        "for i,j in enumerate(l):\n",
        "  a.append(j[1])\n",
        "a = list(set(a))\n",
        "a.sort()\n",
        "print(a[1])\n",
        "\n",
        "for i, j in enumerate(l):\n",
        "  if a[1] in j:\n",
        "    b.append(j[0])\n",
        "b.sort()\n",
        "for i in b:\n",
        "  print(i)"
      ],
      "metadata": {
        "colab": {
          "base_uri": "https://localhost:8080/"
        },
        "id": "0I4XYhOy5tO7",
        "outputId": "e2c59302-a86c-43d3-8224-04461fc6b439"
      },
      "execution_count": null,
      "outputs": [
        {
          "output_type": "stream",
          "name": "stdout",
          "text": [
            "5.0\n",
            "cat\n",
            "dog\n"
          ]
        }
      ]
    },
    {
      "cell_type": "code",
      "source": [
        "n = int(input())\n",
        "student_marks = {}\n",
        "for i in range(n):\n",
        "        name, *line = input().split()\n",
        "        scores = list(map(float, line))\n",
        "        student_marks[name] = scores\n",
        "query_name = input()"
      ],
      "metadata": {
        "id": "fc8O2XDP8jQq"
      },
      "execution_count": null,
      "outputs": []
    },
    {
      "cell_type": "code",
      "source": [
        "contacts = [ {'Name': 'Leena', 'Number': '9766483182','email':'leena@gmail.com'}, {'Name': 'Kennedy', 'Number':'9890529028','email':'kennedy@gmail.com'},{'Name':'Tejal','Number':'9168840202','email':'tejal@gmail.com'}]\n",
        "\n",
        "class Contact():\n",
        "  def __init__(self,name,number,email):\n",
        "    self.name = name\n",
        "    self.number = number\n",
        "    self.email = email\n",
        "  \n",
        "  def add_contacts(self):\n",
        "    contacts = []\n",
        "    contacts.append({'Name':self.name,'Number':self.number ,'email':self.email})\n",
        "  \n",
        "  def delete_contact(self):\n",
        "    for i in contacts:\n",
        "      if i['Name']==self.name:\n",
        "        contacts.remove(i)\n",
        "\n",
        "  def update_contact(self):\n",
        "    for i in contacts:\n",
        "      if i['Name']==self.name:\n",
        "        \n",
        "          ask = input('What do you want to update?   ')\n",
        "          if ask=='Name':\n",
        "\n",
        "              newName = input('New Name ')\n",
        "              i['Name'] =  newName\n",
        "          elif ask =='Number':\n",
        "              newNumber = input('New Number ')\n",
        "              i['Number'] = newNumber\n",
        "          elif ask =='email':\n",
        "              newEmail =  input('New Email ')\n",
        "              i['email'] = newEmail\n",
        "\n",
        "  def open_contact(self):\n",
        "    for i in contacts:\n",
        "      if i['Name']==self.name:\n",
        "        print(i)\n",
        "        break\n",
        "    else:\n",
        "        print('No Match found')\n",
        "      \n",
        "\n",
        "c = Contact('Tejal', '9090890908','tejal@gmail.com') \n",
        "c.add_contacts()\n",
        "c.delete_contact()\n"
      ],
      "metadata": {
        "id": "3hlGh0FZQdgT"
      },
      "execution_count": null,
      "outputs": []
    },
    {
      "cell_type": "code",
      "source": [
        ""
      ],
      "metadata": {
        "id": "nDXkNMKWSMjI"
      },
      "execution_count": null,
      "outputs": []
    }
  ]
}