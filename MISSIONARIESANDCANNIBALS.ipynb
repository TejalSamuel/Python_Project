{
  "cells": [
    {
      "cell_type": "markdown",
      "metadata": {
        "id": "view-in-github",
        "colab_type": "text"
      },
      "source": [
        "<a href=\"https://colab.research.google.com/github/TejalSamuel/Python_Project/blob/main/MISSIONARIESANDCANNIBALS.ipynb\" target=\"_parent\"><img src=\"https://colab.research.google.com/assets/colab-badge.svg\" alt=\"Open In Colab\"/></a>"
      ]
    },
    {
      "cell_type": "markdown",
      "source": [
        "**Code without Emoticons**"
      ],
      "metadata": {
        "id": "Yi6lIQzjhC17"
      }
    },
    {
      "cell_type": "code",
      "execution_count": null,
      "metadata": {
        "id": "lG-QrYkc2w7C"
      },
      "outputs": [],
      "source": [
        "print('M = 0 C = 0 |------B| M = 3 C = 3')\n",
        "\n",
        "boat_side = 'right'\n",
        "missionaries_on_right = 3\n",
        "cannibals_on_right = 3\n",
        "missionaries_on_left = 0\n",
        "cannibals_on_left = 0\n",
        "\n",
        "while True:\n",
        "  missionaries=int(input('Enter number of missionaries on the boat '))                          #invalid move 1\n",
        "  cannibals=int(input('Enter number of cannibals on the boat '))\n",
        "  x=missionaries+cannibals\n",
        "  \n",
        "  \n",
        "  if boat_side=='right':\n",
        "    if x==1 or x==2:\n",
        "      print('Valid move')\n",
        "      if (missionaries > missionaries_on_right ) or (cannibals > cannibals_on_right ):\n",
        "        print('Invalid move 2')\n",
        "        continue\n",
        "      else:\n",
        "        print('Valid move')\n",
        "        missionaries_on_right=missionaries_on_right-missionaries\n",
        "        missionaries_on_left=missionaries_on_left+missionaries\n",
        "        cannibals_on_right=cannibals_on_right-cannibals\n",
        "        cannibals_on_left=cannibals_on_left+cannibals\n",
        "        print('M = ' + str(missionaries_on_left) + ' C = ' + str(cannibals_on_left) + '|B------| M =' +str(missionaries_on_right) + ' C = ' + str(cannibals_on_right))\n",
        "        boat_side='left'\n",
        "   \n",
        "    else:\n",
        "      print('Invalid move 1')\n",
        "      continue\n",
        "  \n",
        "  \n",
        "  elif boat_side=='left':\n",
        "    print(boat_side)\n",
        "      \n",
        "  \n",
        "    if x==1 or x==2:                     \n",
        "      print('Valid move')\n",
        "      if (missionaries>missionaries_on_left) or (cannibals>cannibals_on_left ):\n",
        "        print('Invalid move 2')\n",
        "        continue\n",
        "      else:\n",
        "        print('Valid move')\n",
        "        missionaries_on_right=missionaries_on_right+missionaries\n",
        "        missionaries_on_left=missionaries_on_left-missionaries\n",
        "        cannibals_on_right=cannibals_on_right+cannibals\n",
        "        cannibals_on_left=cannibals_on_left-cannibals\n",
        "        print('M = ' + str(missionaries_on_left) + ' C = ' + str(cannibals_on_left) + ' |------B| M =' + str(missionaries_on_right) + ' C = ' + str(cannibals_on_right))\n",
        "        \n",
        "        boat_side='right'\n",
        "\n",
        "    else:\n",
        "      print('Invalid move 1')\n",
        "      continue\n",
        "        \n",
        "  \n",
        "\n",
        "  if 0<missionaries_on_right<cannibals_on_right:\n",
        "    print('YOU LOSE')\n",
        "    print('GAME OVER')\n",
        "    break\n",
        "  elif 0<missionaries_on_left<cannibals_on_left:\n",
        "    print('YOU LOSE')\n",
        "    print('GAME OVER')\n",
        "    break\n",
        "    \n",
        "  elif missionaries_on_left==3 and cannibals_on_left==3:\n",
        "    print('YOU WIN')\n",
        "    print('GAME OVER')\n",
        "    break"
      ]
    },
    {
      "cell_type": "markdown",
      "source": [
        "**Code with Emoticons**\n",
        "\n"
      ],
      "metadata": {
        "id": "3HpdfCJ9g3c-"
      }
    },
    {
      "cell_type": "code",
      "execution_count": null,
      "metadata": {
        "id": "FPf5JyYDF8sf"
      },
      "outputs": [],
      "source": [
        "from IPython.display import clear_output\n",
        "print(4*'\\U0001f30a'+ '\\U0001f6A2' + 3*'\\U0001f482' + 3*'\\U0001f479')\n",
        "boat_side='Right'\n",
        "mr=3\n",
        "cr=3\n",
        "ml=0\n",
        "cl=0\n",
        "while True:\n",
        "  mis=int(input('Enter number of missionaries on the boat '))                          #invalid move 1\n",
        "  can=int(input('Enter number of cannibals on the boat '))\n",
        "  x=mis+can\n",
        "  if boat_side=='Right':\n",
        "    if x==1 or x==2:\n",
        "      print('Valid move')\n",
        "      if (mis>mr ) or (can>cr ):\n",
        "        print('Invalid move 2')\n",
        "        continue\n",
        "      else:\n",
        "        print('Valid move')\n",
        "        mr=mr-mis\n",
        "        ml=ml+mis\n",
        "        cr=cr-can\n",
        "        cl=cl+can\n",
        "        clear_output()\n",
        "        print( ml*'\\U0001f482'  + cl*'\\U0001f479' +'\\U0001f6A2' +4*'\\U0001f30a'+  mr*'\\U0001f482' + cr*'\\U0001f479')\n",
        "        \n",
        "\n",
        "        boat_side='Left'\n",
        "        \n",
        "    else:\n",
        "      print('Invalid move 1')\n",
        "      continue\n",
        "  \n",
        "  \n",
        "  elif boat_side=='Left':\n",
        "    print(boat_side)\n",
        "      \n",
        "  \n",
        "    if x==1 or x==2:                     \n",
        "      print('Valid move')\n",
        "      if (mis>ml ) or (can>cl ):\n",
        "        print('Invalid move 2')\n",
        "        continue\n",
        "      else:\n",
        "        print('Valid move')\n",
        "        mr=mr+mis\n",
        "        ml=ml-mis\n",
        "        cr=cr+can\n",
        "        cl=cl-can\n",
        "        clear_output()\n",
        "        print( ml*'\\U0001f482' +  cl*'\\U0001f479' +4*'\\U0001f30a'+ '\\U0001f6A2'+ mr*'\\U0001f482' +  cr*'\\U0001f479')\n",
        "       \n",
        "        \n",
        "        boat_side='Right'\n",
        "        \n",
        "    else:\n",
        "      print('Invalid move 1')\n",
        "      continue\n",
        "        \n",
        "  \n",
        "\n",
        "  if 0<mr<cr:\n",
        "    print('YOU LOSE')\n",
        "    print('GAME OVER')\n",
        "    break\n",
        "  elif 0<ml<cl:\n",
        "    print('YOU LOSE')\n",
        "    print('GAME OVER')\n",
        "    break\n",
        "    \n",
        "  elif ml==3 and cl==3:\n",
        "    print('YOU WIN')\n",
        "    print('GAME OVER')\n",
        "    break\n"
      ]
    },
    {
      "cell_type": "code",
      "execution_count": null,
      "metadata": {
        "colab": {
          "background_save": true,
          "base_uri": "https://localhost:8080/"
        },
        "id": "uSe7WaYZTUnb",
        "outputId": "c3cb9840-d58c-4789-e2e9-836bca9ac3b9"
      },
      "outputs": [
        {
          "name": "stdout",
          "output_type": "stream",
          "text": [
            "💂💂👹👹🚢🌊🌊🌊🌊💂👹\n"
          ]
        }
      ],
      "source": [
        "from IPython.display import clear_output\n",
        "print(4*'\\U0001f30a'+ '\\U0001f6A2' + 3*'\\U0001f482' + 3*'\\U0001f479')\n",
        "boat_side = 'right'\n",
        "missionaries_on_right = 3\n",
        "cannibals_on_right = 3\n",
        "missionaries_on_left = 0\n",
        "cannibals_on_left = 0\n",
        "\n",
        "while True:\n",
        "  missionaries=int(input('Enter number of missionaries on the boat: '))                          #invalid move 1\n",
        "  cannibals=int(input('Enter number of cannibals on the boat: '))\n",
        "  x=missionaries+cannibals\n",
        "  \n",
        "  \n",
        "  if boat_side=='right':\n",
        "    if x==1 or x==2:\n",
        "      print('valid move')\n",
        "      if (missionaries > missionaries_on_right ) or (cannibals > cannibals_on_right ):\n",
        "        print('invalid move 2')\n",
        "        continue\n",
        "      else:\n",
        "        print('valid move')\n",
        "        missionaries_on_right = missionaries_on_right - missionaries\n",
        "        missionaries_on_left = missionaries_on_left + missionaries\n",
        "        cannibals_on_right = cannibals_on_right - cannibals\n",
        "        cannibals_on_left = cannibals_on_left + cannibals\n",
        "        clear_output()\n",
        "        print( missionaries_on_left*'\\U0001f482'  + cannibals_on_left*'\\U0001f479' +'\\U0001f6A2' +4*'\\U0001f30a'+  missionaries_on_right*'\\U0001f482' + cannibals_on_right*'\\U0001f479')\n",
        "        boat_side='left'\n",
        "    else:\n",
        "      print('invalid move 1')\n",
        "      continue\n",
        "  \n",
        "  \n",
        "  elif boat_side=='left':\n",
        "    print(boat_side)\n",
        "    if x==1 or x==2:\n",
        "      print('valid move')\n",
        "      if (missionaries > missionaries_on_left) or (cannibals > cannibals_on_left ):\n",
        "        print('invalid move 2')\n",
        "        continue\n",
        "      else:\n",
        "        print('valid move')\n",
        "        missionaries_on_right = missionaries_on_right + missionaries\n",
        "        missionaries_on_left = missionaries_on_left - missionaries\n",
        "        cannibals_on_right = cannibals_on_right + cannibals\n",
        "        cannibals_on_left = cannibals_on_left - cannibals\n",
        "        clear_output()\n",
        "        print( missionaries_on_left*'\\U0001f482' +  cannibals_on_left*'\\U0001f479' +4*'\\U0001f30a'+ '\\U0001f6A2'+ missionaries_on_right*'\\U0001f482' +  cannibals_on_right*'\\U0001f479')\n",
        "        boat_side='right'\n",
        "    else:\n",
        "      print('invalid move 1')\n",
        "      continue\n",
        "        \n",
        "  \n",
        "\n",
        "  if (0 < missionaries_on_right < cannibals_on_right) or  (0 < missionaries_on_left < cannibals_on_left) :\n",
        "    print('YOU LOSE')\n",
        "    print('GAME OVER')\n",
        "    break\n",
        "   \n",
        "  elif missionaries_on_left == 3 and cannibals_on_left == 3:\n",
        "    print('YOU WIN')\n",
        "    print('GAME OVER')\n",
        "    break\n"
      ]
    },
    {
      "cell_type": "code",
      "execution_count": null,
      "metadata": {
        "id": "QgtUDWwZ6bBT"
      },
      "outputs": [],
      "source": [
        ""
      ]
    }
  ],
  "metadata": {
    "colab": {
      "collapsed_sections": [],
      "name": "MISSIONARIESANDCANNIBALS.ipynb",
      "provenance": [],
      "authorship_tag": "ABX9TyO/iJg4EdZm4hQ8v/YVSRBO",
      "include_colab_link": true
    },
    "kernelspec": {
      "display_name": "Python 3",
      "name": "python3"
    },
    "language_info": {
      "name": "python"
    }
  },
  "nbformat": 4,
  "nbformat_minor": 0
}