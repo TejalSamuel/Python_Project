{
  "nbformat": 4,
  "nbformat_minor": 0,
  "metadata": {
    "colab": {
      "name": "BIKERENTAL.ipynb",
      "provenance": [],
      "collapsed_sections": [],
      "authorship_tag": "ABX9TyMEx1BNj78posYql/6J9lo2",
      "include_colab_link": true
    },
    "kernelspec": {
      "name": "python3",
      "display_name": "Python 3"
    },
    "language_info": {
      "name": "python"
    }
  },
  "cells": [
    {
      "cell_type": "markdown",
      "metadata": {
        "id": "view-in-github",
        "colab_type": "text"
      },
      "source": [
        "<a href=\"https://colab.research.google.com/github/TejalSamuel/Python_Project/blob/main/BIKERENTAL.ipynb\" target=\"_parent\"><img src=\"https://colab.research.google.com/assets/colab-badge.svg\" alt=\"Open In Colab\"/></a>"
      ]
    },
    {
      "cell_type": "markdown",
      "source": [
        "**CREATED A BIKE RENTALS APP USING OOPS**"
      ],
      "metadata": {
        "id": "wYlb-naWi8YT"
      }
    },
    {
      "cell_type": "code",
      "source": [
        "class BikeRental():\n",
        "  stock = 100 \n",
        "  def __init__(self):\n",
        "    print('Welcome to rental bike shop')\n",
        "\n",
        "  def displaystock(self):\n",
        "    return BikeRental.stock \n",
        "\n",
        "class Customer(BikeRental):\n",
        "  def __init__(self,num_of_bikes,rentalBasis,no_of_days_or_weeks,bill=0):\n",
        "    \n",
        "    self.bill = bill\n",
        "    self.num_of_bikes = num_of_bikes\n",
        "    self.rentalBasis = rentalBasis\n",
        "    self.no_of_days_or_weeks = no_of_days_or_weeks\n",
        "    super().__init__()\n",
        "  \n",
        "  def rentBike(self):\n",
        "    if self.num_of_bikes <= 0:\n",
        "      print(\"Number of bikes should be positive!\")\n",
        "    elif self.num_of_bikes > BikeRental.stock:\n",
        "      print(BikeRental.stock)\n",
        "    else:\n",
        "      print(self.num_of_bikes)\n",
        "      BikeRental.stock = BikeRental.stock - self.num_of_bikes\n",
        "\n",
        "  def returnBike(self):\n",
        "\n",
        "      if self.rentalBasis =='daily':\n",
        "         if 3<=self.num_of_bikes<=5:\n",
        "            self.bill = self.num_of_bikes* 100*self.no_of_days_or_weeks\n",
        "            discount =  self.bill*0.30\n",
        "            self.bill = self.bill - discount\n",
        "            print('You are eligible for Family rental promotion of 30% discount,',self.bill)\n",
        "         else:\n",
        "            self.bill = self.num_of_bikes* 100*self.no_of_days_or_weeks\n",
        "            print(self.bill)\n",
        "\n",
        "      elif self.rentalBasis == 'weekly':\n",
        "        self.bill = self.num_of_bikes*500*self.no_of_days_or_weeks\n",
        "        print(self.bill)\n",
        "\n",
        "\n",
        "b = BikeRental()\n",
        "b.stock"
      ],
      "metadata": {
        "id": "ilGwIVHZgOY9"
      },
      "execution_count": null,
      "outputs": []
    },
    {
      "cell_type": "code",
      "source": [
        "customer_1 = Customer(2,'daily',5)\n",
        "customer_1.rentBike()\n",
        "customer_1.returnBike()\n",
        "\n"
      ],
      "metadata": {
        "id": "gtpl4Sj2CpGX"
      },
      "execution_count": null,
      "outputs": []
    },
    {
      "cell_type": "code",
      "source": [
        "customer_3 = Customer(4,'daily',3) #- Is family discount applicable here ?\n",
        "customer_3.rentBike()\n",
        "customer_3.returnBike()\n",
        "\n"
      ],
      "metadata": {
        "colab": {
          "base_uri": "https://localhost:8080/"
        },
        "id": "DERQcwZgH6-k",
        "outputId": "88aefe08-4efb-4293-dbf7-eb0d6e699ac2"
      },
      "execution_count": null,
      "outputs": [
        {
          "output_type": "stream",
          "name": "stdout",
          "text": [
            "Welcome to rental bike shop\n",
            "4\n",
            "You are eligible for Family rental promotion of 30% discount 840.0\n"
          ]
        }
      ]
    },
    {
      "cell_type": "code",
      "source": [
        "customer_4 = Customer(3,'weekly',3)\n",
        "customer_4.rentBike()\n",
        "customer_4.returnBike()\n",
        "\n"
      ],
      "metadata": {
        "id": "Ab-D0GJULDuT"
      },
      "execution_count": null,
      "outputs": []
    },
    {
      "cell_type": "code",
      "source": [
        "customer_5 = Customer(120,'weekly',3)\n",
        "customer_5.rentBike()\n",
        "customer_5.returnBike()\n",
        "\n"
      ],
      "metadata": {
        "id": "OJo6zNwBL-Vl"
      },
      "execution_count": null,
      "outputs": []
    },
    {
      "cell_type": "code",
      "source": [
        ""
      ],
      "metadata": {
        "id": "7BDFsntxNNDW"
      },
      "execution_count": null,
      "outputs": []
    }
  ]
}