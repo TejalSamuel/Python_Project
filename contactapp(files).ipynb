{
  "nbformat": 4,
  "nbformat_minor": 0,
  "metadata": {
    "colab": {
      "name": "contactapp(files).ipynb",
      "provenance": [],
      "collapsed_sections": [],
      "authorship_tag": "ABX9TyMX4EyoL7CE5gAxBRffzMrd",
      "include_colab_link": true
    },
    "kernelspec": {
      "name": "python3",
      "display_name": "Python 3"
    },
    "language_info": {
      "name": "python"
    }
  },
  "cells": [
    {
      "cell_type": "markdown",
      "metadata": {
        "id": "view-in-github",
        "colab_type": "text"
      },
      "source": [
        "<a href=\"https://colab.research.google.com/github/TejalSamuel/Python_Project/blob/main/contactapp(files).ipynb\" target=\"_parent\"><img src=\"https://colab.research.google.com/assets/colab-badge.svg\" alt=\"Open In Colab\"/></a>"
      ]
    },
    {
      "cell_type": "markdown",
      "source": [
        "**CREATING A CONTACT APP USING FILE HANDLING**"
      ],
      "metadata": {
        "id": "6kPkFqxriIPv"
      }
    },
    {
      "cell_type": "code",
      "execution_count": null,
      "metadata": {
        "id": "2DIRPJ1pJkTH"
      },
      "outputs": [],
      "source": [
        "f = open('contacts.txt','w')\n",
        "f.write('vivek, vivek@gmail.com, 9921668254 \\n ankur, ankur@gmail.com, 8806807004 \\n pranav, pranav@gmail.com, 987654321')\n",
        "f.close()"
      ]
    },
    {
      "cell_type": "code",
      "source": [
        "f = open('contacts.txt')\n",
        "f.read()"
      ],
      "metadata": {
        "id": "jsY4QwD2NqCG"
      },
      "execution_count": null,
      "outputs": []
    },
    {
      "cell_type": "code",
      "source": [
        "\n",
        "def show_contacts(file):\n",
        "  r=[] \n",
        "  f = open('contacts.txt','r')\n",
        "  x = f.read()\n",
        "  y = x.split()\n",
        "  #print(y)\n",
        "  for i in range(0,len(y),3):\n",
        "    print(y[i].strip(','))\n",
        "    \n",
        "show_contacts('contacts.txt')\n"
      ],
      "metadata": {
        "id": "ko5zEIxVKBtP"
      },
      "execution_count": null,
      "outputs": []
    },
    {
      "cell_type": "code",
      "source": [
        "def add_contacts(contacts):\n",
        "  f = open('contacts.txt','a')\n",
        "  x = f.write('\\n'+input('Enter Name, Number, EmailId \\n: '))\n",
        "  f.close()\n",
        "\n",
        "\n",
        "add_contacts('contacts.txt')"
      ],
      "metadata": {
        "colab": {
          "base_uri": "https://localhost:8080/"
        },
        "id": "z4L4z88KKrul",
        "outputId": "783486bb-c57b-41e5-d336-38f1ee0b8624"
      },
      "execution_count": null,
      "outputs": [
        {
          "name": "stdout",
          "output_type": "stream",
          "text": [
            "Enter Name, Number, EmailId \n",
            ": rahul, rahul@gmail.com, 7775577755\n"
          ]
        }
      ]
    },
    {
      "cell_type": "code",
      "source": [
        "def delete_contact(contacts,name):\n",
        "  f = open('contacts.txt','r')\n",
        "  x= f.readlines()\n",
        "  \n",
        "  for i,j  in enumerate(x):\n",
        "    \n",
        "    if name in j:\n",
        "      del x[i]\n",
        "  f.close()\n",
        "  f = open('contacts.txt', 'w')\n",
        "  f.write(''.join(x))\n",
        "  f.close()\n",
        "  # f=open('contacts.txt','r')\n",
        "  # f.read() \n",
        "  # print(f.read())\n",
        "  print(x)    \n",
        "  \n",
        "\n",
        "delete_contact('contact.txt','pranav')"
      ],
      "metadata": {
        "colab": {
          "base_uri": "https://localhost:8080/"
        },
        "id": "U6pAOcHoNWru",
        "outputId": "a1d1f689-9a22-406f-f90c-dc9866cb8ac0"
      },
      "execution_count": null,
      "outputs": [
        {
          "output_type": "stream",
          "name": "stdout",
          "text": [
            "['vivek, vivek@gmail.com, 9921668254 \\n', ' ankur, ankur@gmail.com, 8806807004 \\n', 'rahul, rahul@gmail.com, 7775577755']\n"
          ]
        }
      ]
    },
    {
      "cell_type": "code",
      "source": [
        "f = open('contacts.txt','r')\n",
        "x= f.readlines()\n",
        "print(x)"
      ],
      "metadata": {
        "colab": {
          "base_uri": "https://localhost:8080/"
        },
        "id": "hEEsGJObWC96",
        "outputId": "6402792a-fdc9-4637-e90c-6eb18abf9c69"
      },
      "execution_count": null,
      "outputs": [
        {
          "output_type": "stream",
          "name": "stdout",
          "text": [
            "['vivek, vivek@gmail.com, 9921668254 \\n', ' ankur, ankur@gmail.com, 8806807004 \\n', 'rahul, rahul@gmail.com, 7775577755']\n"
          ]
        }
      ]
    },
    {
      "cell_type": "code",
      "source": [
        "x = ['vivek, vivek@gmail.com, 9921668254 \\n', 'ankur, ankur@gmail.com, 8806807004 \\n']\n",
        "type(''.join(x))"
      ],
      "metadata": {
        "id": "_r3LwZj8VNow"
      },
      "execution_count": null,
      "outputs": []
    },
    {
      "cell_type": "code",
      "source": [
        "def update_contact(contacts, name):\n",
        "  f = open('contacts.txt','r')\n",
        "  x = f.readlines()\n",
        "  \n",
        "  for i, j in enumerate(x):\n",
        "    if name in j:\n",
        "      del x[i]\n",
        "  f.close()\n",
        "  f = open('contacts.txt', 'w')\n",
        "  f.write(''.join(x))\n",
        "  f.close()\n",
        "  f =  open('contacts.txt','a')\n",
        "  f.write('\\n' + input('New Name, New EmailId, New Number \\n '))\n",
        "  f.close()\n",
        "  \n",
        "\n",
        "update_contact('contacts.txt', 'rahul')"
      ],
      "metadata": {
        "id": "fjxlLXZbRLVT"
      },
      "execution_count": null,
      "outputs": []
    },
    {
      "cell_type": "code",
      "source": [
        "def open_contact(contacts, name):\n",
        "   f = open('contacts.txt','r')\n",
        "   x = f.readlines()\n",
        "   for i, j in enumerate(x):\n",
        "     if name in j:\n",
        "       print(x[i])\n",
        "       break\n",
        "   else: print('No Match Found')\n",
        "\n",
        "open_contact('contacts.txt', 'pranav')"
      ],
      "metadata": {
        "id": "f5tir4SElgNf"
      },
      "execution_count": null,
      "outputs": []
    },
    {
      "cell_type": "code",
      "source": [
        "from IPython.display import clear_output\n",
        "\n",
        "while True:\n",
        "    \n",
        "    action = input(\"Press 'a' - add contact, 'o' - open contact, 'q' - quit  :   \")\n",
        "    clear_output()\n",
        "\n",
        "    if action == 'a':\n",
        "      add_contacts('contacts.txt')\n",
        "      #clear_output()\n",
        "\n",
        "    elif action == 'o':\n",
        "        name = input(\"Enter name of the contact you want to open. \")        \n",
        "        open_contact('contacts.txt', name)\n",
        "        #clear_output()\n",
        "\n",
        "        user = input('Press u for update or d for delete or stop. ')\n",
        "        if user == 'u':\n",
        "          update_contact('contacts.txt', name)\n",
        "\n",
        "        elif user== 'd':\n",
        "          delete_contact('contacts.txt', name)\n",
        "\n",
        "        elif user=='stop':\n",
        "          break\n",
        "    \n",
        "    elif action=='q':\n",
        "      break\n",
        "    \n",
        "    else:\n",
        "        print('Invalid choice')"
      ],
      "metadata": {
        "id": "1S0AzxNigVoa"
      },
      "execution_count": null,
      "outputs": []
    }
  ]
}